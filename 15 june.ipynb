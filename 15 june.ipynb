{
 "cells": [
  {
   "cell_type": "code",
   "execution_count": 2,
   "id": "6511f1ff",
   "metadata": {},
   "outputs": [
    {
     "data": {
      "text/plain": [
       "{'roll_no': 35,\n",
       " 'subject': ['physics', 'chemistry', 'maths', 'english'],\n",
       " 'marks': [12, 13, 14, 15]}"
      ]
     },
     "execution_count": 2,
     "metadata": {},
     "output_type": "execute_result"
    }
   ],
   "source": [
    "l = {'roll_no':35,'subject':['physics','chemistry','maths','english'],'marks':[12,13,14,15]}\n",
    "l"
   ]
  },
  {
   "cell_type": "code",
   "execution_count": 3,
   "id": "e3953cbf",
   "metadata": {},
   "outputs": [
    {
     "data": {
      "text/plain": [
       "35"
      ]
     },
     "execution_count": 3,
     "metadata": {},
     "output_type": "execute_result"
    }
   ],
   "source": [
    "l['roll_no']"
   ]
  },
  {
   "cell_type": "code",
   "execution_count": 4,
   "id": "002fc13a",
   "metadata": {},
   "outputs": [
    {
     "data": {
      "text/plain": [
       "['physics', 'chemistry', 'maths', 'english']"
      ]
     },
     "execution_count": 4,
     "metadata": {},
     "output_type": "execute_result"
    }
   ],
   "source": [
    "l['subject']"
   ]
  },
  {
   "cell_type": "code",
   "execution_count": 5,
   "id": "180f86f2",
   "metadata": {},
   "outputs": [
    {
     "data": {
      "text/plain": [
       "[12, 13, 14, 15]"
      ]
     },
     "execution_count": 5,
     "metadata": {},
     "output_type": "execute_result"
    }
   ],
   "source": [
    "l['marks']"
   ]
  },
  {
   "cell_type": "code",
   "execution_count": 7,
   "id": "0a4780fb",
   "metadata": {},
   "outputs": [
    {
     "data": {
      "text/plain": [
       "'physics'"
      ]
     },
     "execution_count": 7,
     "metadata": {},
     "output_type": "execute_result"
    }
   ],
   "source": [
    "l['subject'][0]"
   ]
  },
  {
   "cell_type": "code",
   "execution_count": 8,
   "id": "7f9d50a6",
   "metadata": {},
   "outputs": [
    {
     "data": {
      "text/plain": [
       "'chemistry'"
      ]
     },
     "execution_count": 8,
     "metadata": {},
     "output_type": "execute_result"
    }
   ],
   "source": [
    "l['subject'][1]"
   ]
  },
  {
   "cell_type": "code",
   "execution_count": 9,
   "id": "631b4211",
   "metadata": {},
   "outputs": [
    {
     "data": {
      "text/plain": [
       "'maths'"
      ]
     },
     "execution_count": 9,
     "metadata": {},
     "output_type": "execute_result"
    }
   ],
   "source": [
    "l['subject'][2]"
   ]
  },
  {
   "cell_type": "code",
   "execution_count": 10,
   "id": "5b274d78",
   "metadata": {},
   "outputs": [
    {
     "data": {
      "text/plain": [
       "'english'"
      ]
     },
     "execution_count": 10,
     "metadata": {},
     "output_type": "execute_result"
    }
   ],
   "source": [
    "l['subject'][3]"
   ]
  },
  {
   "cell_type": "code",
   "execution_count": 11,
   "id": "1469cb02",
   "metadata": {},
   "outputs": [
    {
     "data": {
      "text/plain": [
       "12"
      ]
     },
     "execution_count": 11,
     "metadata": {},
     "output_type": "execute_result"
    }
   ],
   "source": [
    "l['marks'][0]"
   ]
  },
  {
   "cell_type": "code",
   "execution_count": 12,
   "id": "9aeaf2c6",
   "metadata": {},
   "outputs": [
    {
     "data": {
      "text/plain": [
       "13"
      ]
     },
     "execution_count": 12,
     "metadata": {},
     "output_type": "execute_result"
    }
   ],
   "source": [
    "l['marks'][1]"
   ]
  },
  {
   "cell_type": "code",
   "execution_count": 13,
   "id": "98189909",
   "metadata": {},
   "outputs": [
    {
     "data": {
      "text/plain": [
       "14"
      ]
     },
     "execution_count": 13,
     "metadata": {},
     "output_type": "execute_result"
    }
   ],
   "source": [
    "l['marks'][2]"
   ]
  },
  {
   "cell_type": "code",
   "execution_count": 14,
   "id": "f1858b79",
   "metadata": {},
   "outputs": [
    {
     "data": {
      "text/plain": [
       "15"
      ]
     },
     "execution_count": 14,
     "metadata": {},
     "output_type": "execute_result"
    }
   ],
   "source": [
    "l['marks'][3]"
   ]
  },
  {
   "cell_type": "code",
   "execution_count": 15,
   "id": "06d6bf26",
   "metadata": {},
   "outputs": [
    {
     "data": {
      "text/plain": [
       "[12, 13, 14, 15]"
      ]
     },
     "execution_count": 15,
     "metadata": {},
     "output_type": "execute_result"
    }
   ],
   "source": [
    "l['marks']"
   ]
  },
  {
   "cell_type": "code",
   "execution_count": 16,
   "id": "71de8928",
   "metadata": {},
   "outputs": [],
   "source": [
    "l['marks'][0] += 13"
   ]
  },
  {
   "cell_type": "code",
   "execution_count": 17,
   "id": "ace4c8a5",
   "metadata": {},
   "outputs": [],
   "source": [
    "l['marks'][1] += 12"
   ]
  },
  {
   "cell_type": "code",
   "execution_count": 18,
   "id": "71ac8891",
   "metadata": {},
   "outputs": [],
   "source": [
    "l['marks'][2] += 11"
   ]
  },
  {
   "cell_type": "code",
   "execution_count": 19,
   "id": "8ca4f828",
   "metadata": {},
   "outputs": [],
   "source": [
    "l['marks'][3] += 10"
   ]
  },
  {
   "cell_type": "code",
   "execution_count": 20,
   "id": "3907f3a0",
   "metadata": {},
   "outputs": [
    {
     "data": {
      "text/plain": [
       "[25, 25, 25, 25]"
      ]
     },
     "execution_count": 20,
     "metadata": {},
     "output_type": "execute_result"
    }
   ],
   "source": [
    "l['marks']"
   ]
  },
  {
   "cell_type": "code",
   "execution_count": 21,
   "id": "97a45c44",
   "metadata": {},
   "outputs": [
    {
     "data": {
      "text/plain": [
       "['physics', 'chemistry', 'maths', 'english']"
      ]
     },
     "execution_count": 21,
     "metadata": {},
     "output_type": "execute_result"
    }
   ],
   "source": [
    "l['subject']"
   ]
  },
  {
   "cell_type": "code",
   "execution_count": 22,
   "id": "a53b3a89",
   "metadata": {},
   "outputs": [
    {
     "data": {
      "text/plain": [
       "['physicsbiology', 'chemistry', 'maths', 'english']"
      ]
     },
     "execution_count": 22,
     "metadata": {},
     "output_type": "execute_result"
    }
   ],
   "source": [
    "l['subject'][0] += 'biology'\n",
    "l['subject']"
   ]
  },
  {
   "cell_type": "code",
   "execution_count": 25,
   "id": "14726581",
   "metadata": {},
   "outputs": [
    {
     "data": {
      "text/plain": [
       "['physicsbiology', 'chemistryphysics', 'maths', 'english']"
      ]
     },
     "execution_count": 25,
     "metadata": {},
     "output_type": "execute_result"
    }
   ],
   "source": [
    "l['subject'][1] += 'physics'\n",
    "l['subject']"
   ]
  },
  {
   "cell_type": "code",
   "execution_count": 26,
   "id": "bf5f7ab4",
   "metadata": {},
   "outputs": [
    {
     "data": {
      "text/plain": [
       "['physicsbiology', 'chemistryphysics', 'mathschemistry', 'english']"
      ]
     },
     "execution_count": 26,
     "metadata": {},
     "output_type": "execute_result"
    }
   ],
   "source": [
    "l['subject'][2] += 'chemistry'\n",
    "l['subject']"
   ]
  },
  {
   "cell_type": "code",
   "execution_count": 27,
   "id": "525d8117",
   "metadata": {},
   "outputs": [
    {
     "data": {
      "text/plain": [
       "['physicsbiology', 'chemistryphysics', 'mathschemistry', 'englishmaths']"
      ]
     },
     "execution_count": 27,
     "metadata": {},
     "output_type": "execute_result"
    }
   ],
   "source": [
    "l['subject'][3] += 'maths'\n",
    "l['subject']"
   ]
  },
  {
   "cell_type": "code",
   "execution_count": 28,
   "id": "5ca0eab7",
   "metadata": {},
   "outputs": [
    {
     "data": {
      "text/plain": [
       "dict"
      ]
     },
     "execution_count": 28,
     "metadata": {},
     "output_type": "execute_result"
    }
   ],
   "source": [
    "type(l)"
   ]
  },
  {
   "cell_type": "code",
   "execution_count": 33,
   "id": "2a31acfe",
   "metadata": {},
   "outputs": [
    {
     "data": {
      "text/plain": [
       "{'counter': 25,\n",
       " 'books': ['ninth', 'tenth', 'eleventh', 'twelth'],\n",
       " 'price': [2500, 3500, 4500, 5500]}"
      ]
     },
     "execution_count": 33,
     "metadata": {},
     "output_type": "execute_result"
    }
   ],
   "source": [
    "book_store = {'counter':25,'books':['ninth','tenth','eleventh','twelth'],'price':[2500,3500,4500,5500]}\n",
    "book_store"
   ]
  },
  {
   "cell_type": "code",
   "execution_count": 34,
   "id": "3b259793",
   "metadata": {},
   "outputs": [
    {
     "data": {
      "text/plain": [
       "25"
      ]
     },
     "execution_count": 34,
     "metadata": {},
     "output_type": "execute_result"
    }
   ],
   "source": [
    "book_store['counter']"
   ]
  },
  {
   "cell_type": "code",
   "execution_count": 35,
   "id": "1b96606f",
   "metadata": {},
   "outputs": [
    {
     "data": {
      "text/plain": [
       "['ninth', 'tenth', 'eleventh', 'twelth']"
      ]
     },
     "execution_count": 35,
     "metadata": {},
     "output_type": "execute_result"
    }
   ],
   "source": [
    "book_store['books']"
   ]
  },
  {
   "cell_type": "code",
   "execution_count": 36,
   "id": "8c41c473",
   "metadata": {},
   "outputs": [
    {
     "data": {
      "text/plain": [
       "[2500, 3500, 4500, 5500]"
      ]
     },
     "execution_count": 36,
     "metadata": {},
     "output_type": "execute_result"
    }
   ],
   "source": [
    "book_store['price']"
   ]
  },
  {
   "cell_type": "code",
   "execution_count": 37,
   "id": "890b0097",
   "metadata": {},
   "outputs": [
    {
     "data": {
      "text/plain": [
       "'ninth'"
      ]
     },
     "execution_count": 37,
     "metadata": {},
     "output_type": "execute_result"
    }
   ],
   "source": [
    "book_store['books'][0]"
   ]
  },
  {
   "cell_type": "code",
   "execution_count": 38,
   "id": "f744e2d1",
   "metadata": {},
   "outputs": [
    {
     "data": {
      "text/plain": [
       "'tenth'"
      ]
     },
     "execution_count": 38,
     "metadata": {},
     "output_type": "execute_result"
    }
   ],
   "source": [
    "book_store['books'][1]"
   ]
  },
  {
   "cell_type": "code",
   "execution_count": 39,
   "id": "97ebe612",
   "metadata": {},
   "outputs": [
    {
     "data": {
      "text/plain": [
       "'eleventh'"
      ]
     },
     "execution_count": 39,
     "metadata": {},
     "output_type": "execute_result"
    }
   ],
   "source": [
    "book_store['books'][2]"
   ]
  },
  {
   "cell_type": "code",
   "execution_count": 40,
   "id": "89348f4e",
   "metadata": {},
   "outputs": [
    {
     "data": {
      "text/plain": [
       "'twelth'"
      ]
     },
     "execution_count": 40,
     "metadata": {},
     "output_type": "execute_result"
    }
   ],
   "source": [
    "book_store['books'][3]"
   ]
  },
  {
   "cell_type": "code",
   "execution_count": 41,
   "id": "c9ab283c",
   "metadata": {},
   "outputs": [
    {
     "data": {
      "text/plain": [
       "2500"
      ]
     },
     "execution_count": 41,
     "metadata": {},
     "output_type": "execute_result"
    }
   ],
   "source": [
    "book_store['price'][0]"
   ]
  },
  {
   "cell_type": "code",
   "execution_count": 42,
   "id": "8dfd3115",
   "metadata": {},
   "outputs": [
    {
     "data": {
      "text/plain": [
       "3500"
      ]
     },
     "execution_count": 42,
     "metadata": {},
     "output_type": "execute_result"
    }
   ],
   "source": [
    "book_store['price'][1]"
   ]
  },
  {
   "cell_type": "code",
   "execution_count": 43,
   "id": "8d8e60c8",
   "metadata": {},
   "outputs": [
    {
     "data": {
      "text/plain": [
       "4500"
      ]
     },
     "execution_count": 43,
     "metadata": {},
     "output_type": "execute_result"
    }
   ],
   "source": [
    "book_store['price'][2]"
   ]
  },
  {
   "cell_type": "code",
   "execution_count": 44,
   "id": "2e37867f",
   "metadata": {},
   "outputs": [
    {
     "data": {
      "text/plain": [
       "5500"
      ]
     },
     "execution_count": 44,
     "metadata": {},
     "output_type": "execute_result"
    }
   ],
   "source": [
    "book_store['price'][3]"
   ]
  },
  {
   "cell_type": "code",
   "execution_count": 45,
   "id": "a6fa8658",
   "metadata": {},
   "outputs": [],
   "source": [
    "book_store['price'][0] += 100"
   ]
  },
  {
   "cell_type": "code",
   "execution_count": 46,
   "id": "bea3c9ed",
   "metadata": {},
   "outputs": [],
   "source": [
    "book_store['price'][1] += 100"
   ]
  },
  {
   "cell_type": "code",
   "execution_count": 47,
   "id": "343927e1",
   "metadata": {},
   "outputs": [],
   "source": [
    "book_store['price'][2] += 100"
   ]
  },
  {
   "cell_type": "code",
   "execution_count": 48,
   "id": "04c4cee1",
   "metadata": {},
   "outputs": [],
   "source": [
    "book_store['price'][3] += 100"
   ]
  },
  {
   "cell_type": "code",
   "execution_count": 49,
   "id": "a90139b2",
   "metadata": {},
   "outputs": [
    {
     "data": {
      "text/plain": [
       "[2600, 3600, 4600, 5600]"
      ]
     },
     "execution_count": 49,
     "metadata": {},
     "output_type": "execute_result"
    }
   ],
   "source": [
    "book_store['price']"
   ]
  },
  {
   "cell_type": "code",
   "execution_count": 50,
   "id": "1b75ef51",
   "metadata": {},
   "outputs": [
    {
     "data": {
      "text/plain": [
       "25"
      ]
     },
     "execution_count": 50,
     "metadata": {},
     "output_type": "execute_result"
    }
   ],
   "source": [
    "book_store['counter']"
   ]
  },
  {
   "cell_type": "code",
   "execution_count": 51,
   "id": "ca492492",
   "metadata": {},
   "outputs": [
    {
     "data": {
      "text/plain": [
       "['ninth', 'tenth', 'eleventh', 'twelth']"
      ]
     },
     "execution_count": 51,
     "metadata": {},
     "output_type": "execute_result"
    }
   ],
   "source": [
    "book_store['books']"
   ]
  },
  {
   "cell_type": "code",
   "execution_count": 52,
   "id": "2d13ef31",
   "metadata": {},
   "outputs": [
    {
     "data": {
      "text/plain": [
       "'NINTH'"
      ]
     },
     "execution_count": 52,
     "metadata": {},
     "output_type": "execute_result"
    }
   ],
   "source": [
    "book_store['books'][0].upper()"
   ]
  },
  {
   "cell_type": "code",
   "execution_count": 53,
   "id": "35dc542f",
   "metadata": {},
   "outputs": [
    {
     "data": {
      "text/plain": [
       "'TENTH'"
      ]
     },
     "execution_count": 53,
     "metadata": {},
     "output_type": "execute_result"
    }
   ],
   "source": [
    "book_store['books'][1].upper()"
   ]
  },
  {
   "cell_type": "code",
   "execution_count": 54,
   "id": "fa1efed7",
   "metadata": {},
   "outputs": [
    {
     "data": {
      "text/plain": [
       "'ELEVENTH'"
      ]
     },
     "execution_count": 54,
     "metadata": {},
     "output_type": "execute_result"
    }
   ],
   "source": [
    "book_store['books'][2].upper()"
   ]
  },
  {
   "cell_type": "code",
   "execution_count": 55,
   "id": "1730a329",
   "metadata": {},
   "outputs": [
    {
     "data": {
      "text/plain": [
       "'TWELTH'"
      ]
     },
     "execution_count": 55,
     "metadata": {},
     "output_type": "execute_result"
    }
   ],
   "source": [
    "book_store['books'][3].upper()"
   ]
  },
  {
   "cell_type": "code",
   "execution_count": 56,
   "id": "12fcd089",
   "metadata": {},
   "outputs": [
    {
     "data": {
      "text/plain": [
       "['ninth', 'tenth', 'eleventh', 'twelth']"
      ]
     },
     "execution_count": 56,
     "metadata": {},
     "output_type": "execute_result"
    }
   ],
   "source": [
    "book_store['books']"
   ]
  },
  {
   "cell_type": "code",
   "execution_count": 57,
   "id": "cf9f26b0",
   "metadata": {},
   "outputs": [],
   "source": [
    " book_store['price'][0] -= 100\n"
   ]
  },
  {
   "cell_type": "code",
   "execution_count": 58,
   "id": "2eab9a70",
   "metadata": {},
   "outputs": [],
   "source": [
    "book_store['price'][1] -= 100"
   ]
  },
  {
   "cell_type": "code",
   "execution_count": 59,
   "id": "f5b6cf27",
   "metadata": {},
   "outputs": [],
   "source": [
    "book_store['price'][2] -= 100"
   ]
  },
  {
   "cell_type": "code",
   "execution_count": 60,
   "id": "7fa99288",
   "metadata": {},
   "outputs": [
    {
     "data": {
      "text/plain": [
       "[2500, 3500, 4500, 5500]"
      ]
     },
     "execution_count": 60,
     "metadata": {},
     "output_type": "execute_result"
    }
   ],
   "source": [
    "book_store['price'][3] -= 100\n",
    "book_store['price']"
   ]
  },
  {
   "cell_type": "code",
   "execution_count": 61,
   "id": "e7f6d8f3",
   "metadata": {},
   "outputs": [
    {
     "data": {
      "text/plain": [
       "{'counter': 25,\n",
       " 'books': ['ninth', 'tenth', 'eleventh', 'twelth'],\n",
       " 'price': [2500, 3500, 4500, 5500],\n",
       " 'year': 2022}"
      ]
     },
     "execution_count": 61,
     "metadata": {},
     "output_type": "execute_result"
    }
   ],
   "source": [
    "book_store['year'] = 2022\n",
    "book_store"
   ]
  },
  {
   "cell_type": "code",
   "execution_count": 62,
   "id": "260fc9c3",
   "metadata": {},
   "outputs": [
    {
     "data": {
      "text/plain": [
       "{'counter': 25,\n",
       " 'books': ['ninth', 'tenth', 'eleventh', 'twelth'],\n",
       " 'price': [2500, 3500, 4500, 5500],\n",
       " 'year': 2022,\n",
       " 'est.year': 1950}"
      ]
     },
     "execution_count": 62,
     "metadata": {},
     "output_type": "execute_result"
    }
   ],
   "source": [
    "book_store['est.year'] = 1950\n",
    "book_store"
   ]
  },
  {
   "cell_type": "code",
   "execution_count": 63,
   "id": "e8e1cfab",
   "metadata": {},
   "outputs": [
    {
     "data": {
      "text/plain": [
       "{'counter': 35,\n",
       " 'books': ['ninth', 'tenth', 'eleventh', 'twelth'],\n",
       " 'price': [2500, 3500, 4500, 5500],\n",
       " 'year': 2022,\n",
       " 'est.year': 1950}"
      ]
     },
     "execution_count": 63,
     "metadata": {},
     "output_type": "execute_result"
    }
   ],
   "source": [
    "book_store.update({'counter':35})\n",
    "book_store"
   ]
  },
  {
   "cell_type": "code",
   "execution_count": 64,
   "id": "df07ff06",
   "metadata": {},
   "outputs": [
    {
     "data": {
      "text/plain": [
       "dict_items([('counter', 35), ('books', ['ninth', 'tenth', 'eleventh', 'twelth']), ('price', [2500, 3500, 4500, 5500]), ('year', 2022), ('est.year', 1950)])"
      ]
     },
     "execution_count": 64,
     "metadata": {},
     "output_type": "execute_result"
    }
   ],
   "source": [
    "book_store.items()"
   ]
  },
  {
   "cell_type": "code",
   "execution_count": 66,
   "id": "6e2d919d",
   "metadata": {},
   "outputs": [
    {
     "data": {
      "text/plain": [
       "dict_keys(['counter', 'books', 'price', 'year', 'est.year'])"
      ]
     },
     "execution_count": 66,
     "metadata": {},
     "output_type": "execute_result"
    }
   ],
   "source": [
    "book_store.keys()"
   ]
  },
  {
   "cell_type": "code",
   "execution_count": 67,
   "id": "8f4e5547",
   "metadata": {},
   "outputs": [
    {
     "data": {
      "text/plain": [
       "dict_values([35, ['ninth', 'tenth', 'eleventh', 'twelth'], [2500, 3500, 4500, 5500], 2022, 1950])"
      ]
     },
     "execution_count": 67,
     "metadata": {},
     "output_type": "execute_result"
    }
   ],
   "source": [
    "book_store.values()"
   ]
  },
  {
   "cell_type": "code",
   "execution_count": 68,
   "id": "c3e624a9",
   "metadata": {},
   "outputs": [],
   "source": [
    "#branching"
   ]
  },
  {
   "cell_type": "code",
   "execution_count": 69,
   "id": "9be4931a",
   "metadata": {},
   "outputs": [
    {
     "name": "stdout",
     "output_type": "stream",
     "text": [
      "God is great\n"
     ]
    }
   ],
   "source": [
    "i = 8\n",
    "\n",
    "if i < 10:\n",
    "    print('God is great')\n",
    "    \n",
    "\n",
    "else:\n",
    "    print('nothing is for always')\n",
    "    "
   ]
  },
  {
   "cell_type": "code",
   "execution_count": 71,
   "id": "50afbba3",
   "metadata": {},
   "outputs": [
    {
     "name": "stdout",
     "output_type": "stream",
     "text": [
      "I m not coming\n"
     ]
    }
   ],
   "source": [
    "i = 25\n",
    "\n",
    "if i > 30:\n",
    "    print('I will be available')\n",
    "    \n",
    "    \n",
    "else:\n",
    "    print('I m not coming')"
   ]
  },
  {
   "cell_type": "code",
   "execution_count": 73,
   "id": "a19b20d8",
   "metadata": {},
   "outputs": [
    {
     "name": "stdout",
     "output_type": "stream",
     "text": [
      "Here\n"
     ]
    }
   ],
   "source": [
    "i = 1000\n",
    "\n",
    "if i <= 1001:\n",
    "    print('Here')\n",
    "    \n",
    "    \n",
    "elif i >= 1000:\n",
    "    print('There')\n",
    "    "
   ]
  },
  {
   "cell_type": "code",
   "execution_count": 74,
   "id": "09568830",
   "metadata": {},
   "outputs": [
    {
     "name": "stdout",
     "output_type": "stream",
     "text": [
      "1000\n"
     ]
    }
   ],
   "source": [
    "i = 1000\n",
    "\n",
    "if i < 1001:\n",
    "    print(1000)\n",
    "    \n",
    "    \n",
    "elif i >= 1000:\n",
    "    print(0)\n",
    "    "
   ]
  },
  {
   "cell_type": "code",
   "execution_count": 77,
   "id": "7e8e2e9a",
   "metadata": {},
   "outputs": [
    {
     "name": "stdout",
     "output_type": "stream",
     "text": [
      "Swami\n"
     ]
    }
   ],
   "source": [
    "i = 95\n",
    "\n",
    "if i < 100:\n",
    "    print('Swami')\n",
    "    \n",
    "    \n",
    "elif i <= 95:\n",
    "    print('Vision')"
   ]
  },
  {
   "cell_type": "code",
   "execution_count": 78,
   "id": "034613a7",
   "metadata": {},
   "outputs": [
    {
     "name": "stdout",
     "output_type": "stream",
     "text": [
      "True\n"
     ]
    }
   ],
   "source": [
    "i = 25 \n",
    "\n",
    "if i > 30:\n",
    "    print('Williams')\n",
    "    \n",
    "    \n",
    "elif i <= 30:\n",
    "    print('True')"
   ]
  },
  {
   "cell_type": "code",
   "execution_count": 79,
   "id": "76f41ccb",
   "metadata": {},
   "outputs": [
    {
     "name": "stdout",
     "output_type": "stream",
     "text": [
      "40\n"
     ]
    }
   ],
   "source": [
    "i = 35 \n",
    "\n",
    "\n",
    "if i > 35:\n",
    "    print(35)\n",
    "    \n",
    "    \n",
    "elif i >= 35:\n",
    "    print(40)"
   ]
  },
  {
   "cell_type": "code",
   "execution_count": 81,
   "id": "0df66df2",
   "metadata": {},
   "outputs": [
    {
     "name": "stdout",
     "output_type": "stream",
     "text": [
      "5\n"
     ]
    }
   ],
   "source": [
    "i = 3\n",
    "\n",
    "\n",
    "if i <= 2:\n",
    "    print(4)\n",
    "    \n",
    "    \n",
    "    \n",
    "elif i >= 2:\n",
    "    print(5)"
   ]
  },
  {
   "cell_type": "code",
   "execution_count": 82,
   "id": "3d7a1f09",
   "metadata": {},
   "outputs": [
    {
     "name": "stdout",
     "output_type": "stream",
     "text": [
      "everything is not available\n"
     ]
    }
   ],
   "source": [
    "i = 25 \n",
    "\n",
    "\n",
    "if i >= 30:\n",
    "    print(\"everything is available\")\n",
    "    \n",
    "    \n",
    "elif i <= 30:\n",
    "    print(\"everything is not available\")"
   ]
  },
  {
   "cell_type": "code",
   "execution_count": 84,
   "id": "da5f34f0",
   "metadata": {},
   "outputs": [
    {
     "name": "stdout",
     "output_type": "stream",
     "text": [
      "everything is fine\n"
     ]
    }
   ],
   "source": [
    "i = 65 \n",
    "\n",
    "\n",
    "if i <= 65:\n",
    "    print('everything is fine')\n",
    "    \n",
    "    \n",
    "    \n",
    "elif i >= 50:\n",
    "    print('everything is not fine')"
   ]
  },
  {
   "cell_type": "code",
   "execution_count": 86,
   "id": "3b3d3918",
   "metadata": {},
   "outputs": [
    {
     "name": "stdout",
     "output_type": "stream",
     "text": [
      "i have not pen\n"
     ]
    }
   ],
   "source": [
    "i = 35 \n",
    "\n",
    "\n",
    "if i <= 30:\n",
    "    print('i have a pen')\n",
    "    \n",
    "    \n",
    "    \n",
    "else:\n",
    "    print('i have not pen')"
   ]
  },
  {
   "cell_type": "code",
   "execution_count": 87,
   "id": "918cb859",
   "metadata": {},
   "outputs": [
    {
     "name": "stdout",
     "output_type": "stream",
     "text": [
      "i m not in market\n"
     ]
    }
   ],
   "source": [
    "i = 100 \n",
    "\n",
    "\n",
    "if i > 100:\n",
    "    print('i m in market')\n",
    "    \n",
    "else:\n",
    "    print('i m not in market')"
   ]
  },
  {
   "cell_type": "code",
   "execution_count": 88,
   "id": "4a586b63",
   "metadata": {},
   "outputs": [
    {
     "name": "stdout",
     "output_type": "stream",
     "text": [
      "i m always available\n"
     ]
    }
   ],
   "source": [
    "i = 100\n",
    "\n",
    "\n",
    "if i > 100:\n",
    "    print('i m available')\n",
    "    \n",
    "elif i < 50:\n",
    "    print('i m not available')\n",
    "    \n",
    "else:\n",
    "    print('i m always available')"
   ]
  },
  {
   "cell_type": "code",
   "execution_count": 93,
   "id": "7e83f2d2",
   "metadata": {},
   "outputs": [
    {
     "name": "stdout",
     "output_type": "stream",
     "text": [
      "you are not eligible for free shipping\n"
     ]
    }
   ],
   "source": [
    "item1 = 2300 \n",
    "item2 = 1400\n",
    "\n",
    "if (item1 + item2) >= 4000:\n",
    "    print('You are eligible for free shipping')\n",
    "    \n",
    "else:\n",
    "    extra = 4000 - (item1 + item2)\n",
    "    print('you are not eligible for free shipping')"
   ]
  },
  {
   "cell_type": "code",
   "execution_count": 98,
   "id": "b6cc5329",
   "metadata": {},
   "outputs": [
    {
     "name": "stdout",
     "output_type": "stream",
     "text": [
      "You are eligible for free shipping\n"
     ]
    }
   ],
   "source": [
    "item1 = 2300 \n",
    "item2 = 1400\n",
    "\n",
    "if (item1 + item2) <= 4000:\n",
    "    print('You are eligible for free shipping')\n",
    "    \n",
    "elif (item1 + item2) >= 3700:\n",
    "    print('i m on my way')\n",
    "    \n"
   ]
  },
  {
   "cell_type": "code",
   "execution_count": 106,
   "id": "90b08188",
   "metadata": {},
   "outputs": [
    {
     "name": "stdout",
     "output_type": "stream",
     "text": [
      "i m on\n"
     ]
    }
   ],
   "source": [
    "shoes = 2200\n",
    "socks = 2100\n",
    "joggers = 2200\n",
    "\n",
    "\n",
    "if shoes > joggers and socks < shoes:\n",
    "    print ('all is well')\n",
    "    \n",
    "    \n",
    "elif shoes <= joggers or socks > shoes:\n",
    "    print('i m on')\n",
    "    \n",
    "    \n"
   ]
  },
  {
   "cell_type": "code",
   "execution_count": 107,
   "id": "467a268f",
   "metadata": {},
   "outputs": [
    {
     "name": "stdout",
     "output_type": "stream",
     "text": [
      "65 - First class\n"
     ]
    }
   ],
   "source": [
    "marks = 65\n",
    "\n",
    "if marks >= 65:\n",
    "    if marks > 70:\n",
    "        print(marks,'- Distinction')\n",
    "    else:\n",
    "        print(marks,'- First class')\n",
    "        \n",
    "        \n",
    "elif marks > 50 and marks <= 65:\n",
    "    print(marks,'- second class')\n",
    "    \n",
    "elif marks >= 35:\n",
    "    print(marks,'- Pass')\n",
    "    \n",
    "    \n",
    "else:\n",
    "    print(marks, '-Fail - Better luck next time')"
   ]
  },
  {
   "cell_type": "code",
   "execution_count": 109,
   "id": "85549dbd",
   "metadata": {},
   "outputs": [
    {
     "name": "stdout",
     "output_type": "stream",
     "text": [
      "75 - Distinction\n"
     ]
    }
   ],
   "source": [
    "marks = 75\n",
    "\n",
    "if marks > 65:\n",
    "    if marks > 70:\n",
    "        print(marks, '- Distinction')\n",
    "    else:\n",
    "        print(marks, 'First class')\n",
    "        \n",
    "        \n",
    "elif marks > 55 and marks <= 70:\n",
    "    print(marks,'Second class')\n",
    "    \n",
    "    \n",
    "elif marks >= 35:\n",
    "    print(marks,\"Pass\")\n",
    "    \n",
    "    \n",
    "else:\n",
    "    print(marks,'Fail- Better luck next time')"
   ]
  },
  {
   "cell_type": "code",
   "execution_count": 110,
   "id": "28b07bb1",
   "metadata": {},
   "outputs": [
    {
     "name": "stdout",
     "output_type": "stream",
     "text": [
      "shoes are expensive\n"
     ]
    }
   ],
   "source": [
    "shoes = 2000\n",
    "\n",
    "\n",
    "if shoes > 1500:\n",
    "    if shoes > 1800:\n",
    "        print('shoes are expensive')\n",
    "    else:\n",
    "        print('shoes are better')\n",
    "        \n",
    "        \n",
    "elif shoes > 1500 and shoes <= 1500:\n",
    "    print ('shoes are good')\n",
    "    \n",
    "    \n",
    "else:\n",
    "    print ('shoes are not good')"
   ]
  },
  {
   "cell_type": "code",
   "execution_count": 114,
   "id": "fb822bb4",
   "metadata": {},
   "outputs": [
    {
     "name": "stdout",
     "output_type": "stream",
     "text": [
      "a is better\n"
     ]
    }
   ],
   "source": [
    "a = 2345\n",
    "\n",
    "\n",
    "if a > 1500:\n",
    "    if a > 1800:\n",
    "        print('a is better')\n",
    "    else:\n",
    "        print('a is very good')\n",
    "        \n",
    "        \n",
    "elif a > 1800 and a <= 1800:\n",
    "    print('a is good')\n",
    "    \n",
    "    \n",
    "else:\n",
    "    print('a is not good')"
   ]
  },
  {
   "cell_type": "code",
   "execution_count": 115,
   "id": "84492d07",
   "metadata": {},
   "outputs": [
    {
     "name": "stdout",
     "output_type": "stream",
     "text": [
      "a is better\n"
     ]
    }
   ],
   "source": [
    " a = 1000\n",
    "\n",
    "if a > 900:\n",
    "    if a > 850:\n",
    "        print('a is better')\n",
    "    else:\n",
    "        print('a is not better')\n",
    "        \n",
    "elif a > 800 and a <= 500:\n",
    "    print('a is good')\n",
    "    \n",
    "else:\n",
    "    print('a is not good')"
   ]
  },
  {
   "cell_type": "code",
   "execution_count": 2,
   "id": "44274c88",
   "metadata": {},
   "outputs": [
    {
     "data": {
      "text/plain": [
       "{'shop': 32, 'counter': [42, 78], 'books': ['ninth', 'tenth']}"
      ]
     },
     "execution_count": 2,
     "metadata": {},
     "output_type": "execute_result"
    }
   ],
   "source": [
    "l = {'shop':32,'counter':[42,78],'books':['ninth','tenth']}\n",
    "l"
   ]
  },
  {
   "cell_type": "code",
   "execution_count": 6,
   "id": "71c38e03",
   "metadata": {},
   "outputs": [
    {
     "data": {
      "text/plain": [
       "32"
      ]
     },
     "execution_count": 6,
     "metadata": {},
     "output_type": "execute_result"
    }
   ],
   "source": [
    "l['shop']"
   ]
  },
  {
   "cell_type": "code",
   "execution_count": 7,
   "id": "e08fbe4e",
   "metadata": {},
   "outputs": [
    {
     "data": {
      "text/plain": [
       "[42, 78]"
      ]
     },
     "execution_count": 7,
     "metadata": {},
     "output_type": "execute_result"
    }
   ],
   "source": [
    "l['counter']"
   ]
  },
  {
   "cell_type": "code",
   "execution_count": 8,
   "id": "a57d6b01",
   "metadata": {},
   "outputs": [
    {
     "data": {
      "text/plain": [
       "['ninth', 'tenth']"
      ]
     },
     "execution_count": 8,
     "metadata": {},
     "output_type": "execute_result"
    }
   ],
   "source": [
    "l['books']"
   ]
  },
  {
   "cell_type": "code",
   "execution_count": 9,
   "id": "ab1ee738",
   "metadata": {},
   "outputs": [
    {
     "ename": "AttributeError",
     "evalue": "'list' object has no attribute 'upper'",
     "output_type": "error",
     "traceback": [
      "\u001b[1;31m---------------------------------------------------------------------------\u001b[0m",
      "\u001b[1;31mAttributeError\u001b[0m                            Traceback (most recent call last)",
      "Input \u001b[1;32mIn [9]\u001b[0m, in \u001b[0;36m<cell line: 1>\u001b[1;34m()\u001b[0m\n\u001b[1;32m----> 1\u001b[0m \u001b[43ml\u001b[49m\u001b[43m[\u001b[49m\u001b[38;5;124;43m'\u001b[39;49m\u001b[38;5;124;43mbooks\u001b[39;49m\u001b[38;5;124;43m'\u001b[39;49m\u001b[43m]\u001b[49m\u001b[38;5;241;43m.\u001b[39;49m\u001b[43mupper\u001b[49m()\n",
      "\u001b[1;31mAttributeError\u001b[0m: 'list' object has no attribute 'upper'"
     ]
    }
   ],
   "source": [
    "l['books'].upper()"
   ]
  },
  {
   "cell_type": "code",
   "execution_count": 10,
   "id": "94b33f06",
   "metadata": {},
   "outputs": [
    {
     "data": {
      "text/plain": [
       "'ninth'"
      ]
     },
     "execution_count": 10,
     "metadata": {},
     "output_type": "execute_result"
    }
   ],
   "source": [
    "l['books'][0]"
   ]
  },
  {
   "cell_type": "code",
   "execution_count": 11,
   "id": "ce203b8e",
   "metadata": {},
   "outputs": [
    {
     "data": {
      "text/plain": [
       "'tenth'"
      ]
     },
     "execution_count": 11,
     "metadata": {},
     "output_type": "execute_result"
    }
   ],
   "source": [
    "l['books'][1]"
   ]
  },
  {
   "cell_type": "code",
   "execution_count": 18,
   "id": "e5289f2b",
   "metadata": {},
   "outputs": [
    {
     "name": "stdout",
     "output_type": "stream",
     "text": [
      "fast\n"
     ]
    }
   ],
   "source": [
    "i = 200\n",
    "\n",
    "if i < 200: \n",
    "    print('superfast')\n",
    "        \n",
    "        \n",
    "        \n",
    "    \n",
    "else:\n",
    "    print('fast')\n",
    "    \n",
    "    \n",
    "\n",
    "    \n",
    "    \n",
    "    "
   ]
  },
  {
   "cell_type": "code",
   "execution_count": 21,
   "id": "36e49af1",
   "metadata": {},
   "outputs": [
    {
     "name": "stdout",
     "output_type": "stream",
     "text": [
      "105\n"
     ]
    }
   ],
   "source": [
    "a = 25\n",
    "b = 35\n",
    "c = 45\n",
    "\n",
    "\n",
    "if a < b and b < c:\n",
    "    print(105)\n",
    "    \n",
    "    \n",
    "    \n",
    "else:\n",
    "    print(120)"
   ]
  },
  {
   "cell_type": "code",
   "execution_count": 22,
   "id": "93748e58",
   "metadata": {},
   "outputs": [
    {
     "name": "stdout",
     "output_type": "stream",
     "text": [
      "you are not in lucky draw\n"
     ]
    }
   ],
   "source": [
    "a = 100\n",
    "b = 200\n",
    "\n",
    "\n",
    "if a + b < 500:\n",
    "    print('you are not in lucky draw')\n",
    "    \n",
    "    \n",
    "else:\n",
    "    print('please add extra money')"
   ]
  },
  {
   "cell_type": "code",
   "execution_count": 31,
   "id": "76f352b2",
   "metadata": {},
   "outputs": [
    {
     "name": "stdout",
     "output_type": "stream",
     "text": [
      "First class\n"
     ]
    }
   ],
   "source": [
    "a = 80\n",
    "\n",
    "if a > 70:\n",
    "    if a > 75:\n",
    "        print('First class')\n",
    "    else:\n",
    "        print('only first')\n",
    "        \n",
    "        \n",
    "        \n",
    "elif a > 60 and a < 70:\n",
    "    print('second')\n",
    "    \n",
    "    \n",
    "else:\n",
    "    print('only pass')"
   ]
  },
  {
   "cell_type": "code",
   "execution_count": 1,
   "id": "c9723e6a",
   "metadata": {},
   "outputs": [
    {
     "name": "stdout",
     "output_type": "stream",
     "text": [
      "i m always here\n"
     ]
    }
   ],
   "source": [
    "a = 50 \n",
    "b = 40\n",
    "\n",
    "\n",
    "if a + b > 80:\n",
    "    if a + b >= 82:\n",
    "        print('i m always here')\n",
    "    else:\n",
    "        print('i m always there')\n",
    "        \n",
    "        \n",
    "        \n",
    "else:\n",
    "    print('i m always in Canada')\n",
    "    "
   ]
  },
  {
   "cell_type": "code",
   "execution_count": 5,
   "id": "ec7fb2ba",
   "metadata": {},
   "outputs": [
    {
     "name": "stdout",
     "output_type": "stream",
     "text": [
      "i m always in Canada\n"
     ]
    }
   ],
   "source": [
    "a = 20\n",
    "b = 30\n",
    "c = 40\n",
    "\n",
    "if a + b + c > 100:\n",
    "    print('you are eligible for free parking')\n",
    "    \n",
    "    \n",
    "elif a > c and a < b:\n",
    "    print('i will meet in Canada')\n",
    "    \n",
    "    \n",
    "else:\n",
    "    print('i m always in Canada')\n",
    "    "
   ]
  },
  {
   "cell_type": "code",
   "execution_count": 7,
   "id": "6c1ee64d",
   "metadata": {},
   "outputs": [
    {
     "name": "stdout",
     "output_type": "stream",
     "text": [
      "America\n"
     ]
    }
   ],
   "source": [
    "a = 10\n",
    "b = 20\n",
    "c = 30\n",
    "\n",
    "\n",
    "if a < b and b > c:\n",
    "    print('Australia')\n",
    "    \n",
    "    \n",
    "elif a + b <= 30 and b + c <= 40:\n",
    "    print('London')\n",
    "    \n",
    "    \n",
    "else:\n",
    "    print('America')\n"
   ]
  },
  {
   "cell_type": "code",
   "execution_count": 8,
   "id": "883dffb7",
   "metadata": {},
   "outputs": [
    {
     "name": "stdout",
     "output_type": "stream",
     "text": [
      "expense is much more\n"
     ]
    }
   ],
   "source": [
    "swift = 700000\n",
    "aura = 800000\n",
    "thar = 1500000\n",
    "\n",
    "if swift + aura < thar:\n",
    "    print('value for money')\n",
    "    \n",
    "elif swift + thar > aura:\n",
    "    print('expense is much more')\n",
    "    \n",
    "else:\n",
    "    print ('thar is much better than both these cars')"
   ]
  },
  {
   "cell_type": "code",
   "execution_count": 13,
   "id": "3fdc2ed6",
   "metadata": {},
   "outputs": [
    {
     "name": "stdout",
     "output_type": "stream",
     "text": [
      "dil mange more\n"
     ]
    }
   ],
   "source": [
    "bike = 125000\n",
    "car = 800000\n",
    "suv = 2500000\n",
    "\n",
    "\n",
    "if suv < bike + car:\n",
    "    print('one more thing')\n",
    "    \n",
    "elif suv + car + bike <= 3425000:\n",
    "    print('dil mange more')"
   ]
  },
  {
   "cell_type": "code",
   "execution_count": null,
   "id": "aed5b40b",
   "metadata": {},
   "outputs": [],
   "source": []
  }
 ],
 "metadata": {
  "kernelspec": {
   "display_name": "Python 3 (ipykernel)",
   "language": "python",
   "name": "python3"
  },
  "language_info": {
   "codemirror_mode": {
    "name": "ipython",
    "version": 3
   },
   "file_extension": ".py",
   "mimetype": "text/x-python",
   "name": "python",
   "nbconvert_exporter": "python",
   "pygments_lexer": "ipython3",
   "version": "3.9.12"
  }
 },
 "nbformat": 4,
 "nbformat_minor": 5
}
